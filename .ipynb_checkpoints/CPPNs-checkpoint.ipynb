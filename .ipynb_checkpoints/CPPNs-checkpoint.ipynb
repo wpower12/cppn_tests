{
 "cells": [
  {
   "cell_type": "markdown",
   "metadata": {},
   "source": [
    "Trying to just get a basic CPPN set up working. Would like to just output some pretty pictures. "
   ]
  },
  {
   "cell_type": "code",
   "execution_count": 1,
   "metadata": {},
   "outputs": [],
   "source": [
    "# Each node in the CPPN is like a typical neural net node, but instead of the funciton being a threshold,\n",
    "# it can be any arbitrary function we think up. Each CPPN will 'end' with a single output node, which can\n",
    "# have its eval() called to evaulate the entire CPP\n",
    "\n",
    "# The inputs_dict will hold the actual input values needed to evaulate the compuatations. Some special atom, 'input'\n",
    "# atoms will 'bottom out' on values that are held in the input_dict. So that they can then bubble back up\n",
    "# as nodes are evaluated.\n",
    "import math\n",
    "\n",
    "class CPPNAtom:\n",
    "    def __init__(self, t):\n",
    "        self.type = t\n",
    "        self.inputs  = []\n",
    "        self.weights = []\n",
    "    \n",
    "    def eval(self, input_dict):\n",
    "        weighted_sum = 0\n",
    "        for i in range(len(self.inputs)):\n",
    "            in_node   = self.inputs[i]\n",
    "            in_weight = self.weights[i]\n",
    "            weighted_sum += in_node.eval(input_dict)*in_weight    \n",
    "        ret = 0\n",
    "        \n",
    "        # Here's where you'd define the actual functions to be used.\n",
    "        # could do this with some classes and inheritance, but this \n",
    "        # will do for a start.\n",
    "        if   self.type == \"sine\":\n",
    "            ret = math.sin(weighted_sum)\n",
    "        elif self.type == \"gauss\":\n",
    "            # TODO - gaussian\n",
    "            ret = weighted_sum*1\n",
    "        elif self.type == \"abs\":\n",
    "            ret = math.fabs(weighted_sum)\n",
    "         \n",
    "        return ret\n",
    "\n",
    "class CPPNInputAtom(CPPNAtom):\n",
    "    # TODO - if the type is 'input', then you search the\n",
    "    #        dict for the value corresponding to the 'tag'\n",
    "    #        or name of the input. \n",
    "    #        Needs to somehow handle the possible error of looking for a nonexistant input tag/name\n",
    "    def __init__(self, tag):\n",
    "        self.tag = tag\n",
    "    \n",
    "    def eval(self, input_dict):\n",
    "        return input_dict[self.tag]\n",
    "    \n",
    "# When the above is done, then just need to create a method for filling in random trees. I can borrow a lot\n",
    "# From work in GP to do this.\n",
    "\n",
    "# The eval done above will be decidedly NOT lazy and therefore be a little wasteful, but who gives a shit."
   ]
  },
  {
   "cell_type": "code",
   "execution_count": 34,
   "metadata": {},
   "outputs": [
    {
     "data": {
      "text/plain": [
       "0.8414709848078965"
      ]
     },
     "execution_count": 34,
     "metadata": {},
     "output_type": "execute_result"
    }
   ],
   "source": [
    "inputs = {'x': 2, 'y': -3}\n",
    "\n",
    "A = CPPNAtom(\"abs\")\n",
    "B = CPPNAtom(\"sine\")\n",
    "\n",
    "A.inputs = [B]\n",
    "A.weights = [1.0]\n",
    "\n",
    "X = CPPNInputAtom('x')\n",
    "Y = CPPNInputAtom('y')\n",
    "\n",
    "B.inputs = [X, Y]\n",
    "B.weights = [1.0,1.0]\n",
    "\n",
    "A.eval(inputs)\n",
    "\n",
    "\n"
   ]
  },
  {
   "cell_type": "code",
   "execution_count": 65,
   "metadata": {},
   "outputs": [
    {
     "name": "stdout",
     "output_type": "stream",
     "text": [
      "0.0 0.9999996829318346\n",
      "[[255 252 249 ... 211 213 216]\n",
      " [252 249 247 ... 213 216 219]\n",
      " [249 247 244 ... 216 219 221]\n",
      " ...\n",
      " [211 213 216 ... 169 171 174]\n",
      " [213 216 219 ... 171 174 176]\n",
      " [216 219 221 ... 174 176 178]]\n"
     ]
    }
   ],
   "source": [
    "from PIL import Image, ImageDraw\n",
    "import numpy as np\n",
    "\n",
    "x_max, y_max = 300, 300\n",
    "fn = \"test_03.png\"\n",
    "\n",
    "scale = 0.01\n",
    "\n",
    "img_mx = np.ones((x_max, y_max))\n",
    "\n",
    "smallest, largest = 10000000, 0\n",
    "\n",
    "# The following is getting the values and hackishly\n",
    "# scaling them from [min, max] to [0, 256]\n",
    "for i in range(x_max):\n",
    "    for j in range(y_max):\n",
    "        inputs = { 'x': i*scale, 'y': j*scale}\n",
    "        val = A.eval(inputs)\n",
    "        img_mx[i][j] = val\n",
    "        if val > largest: largest = val\n",
    "        if val < smallest: smallest = val\n",
    "\n",
    "# the actual scaling, in a dif loop bc im garbage.\n",
    "for i in range(x_max):\n",
    "    for j in range(y_max):\n",
    "        inputs = { 'x': i*scale, 'y': j*scale}\n",
    "        img_mx[i][j] = 255*(largest - img_mx[i][j])/(largest-smallest)\n",
    "\n",
    "        \n",
    "img_mx = img_mx.astype(np.uint8)\n",
    "img = Image.fromarray(img_mx)\n",
    "img.save(fn)\n",
    "\n",
    "print(smallest, largest)\n",
    "\n",
    "print(img_mx)"
   ]
  },
  {
   "cell_type": "markdown",
   "metadata": {},
   "source": [
    "![title](test_03.png)"
   ]
  },
  {
   "cell_type": "code",
   "execution_count": null,
   "metadata": {},
   "outputs": [],
   "source": []
  },
  {
   "cell_type": "code",
   "execution_count": null,
   "metadata": {},
   "outputs": [],
   "source": []
  }
 ],
 "metadata": {
  "kernelspec": {
   "display_name": "Python 3",
   "language": "python",
   "name": "python3"
  },
  "language_info": {
   "codemirror_mode": {
    "name": "ipython",
    "version": 3
   },
   "file_extension": ".py",
   "mimetype": "text/x-python",
   "name": "python",
   "nbconvert_exporter": "python",
   "pygments_lexer": "ipython3",
   "version": "3.7.1"
  }
 },
 "nbformat": 4,
 "nbformat_minor": 2
}
