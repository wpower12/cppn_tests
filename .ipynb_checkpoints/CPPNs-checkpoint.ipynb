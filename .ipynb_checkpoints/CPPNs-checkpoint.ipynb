{
 "cells": [
  {
   "cell_type": "markdown",
   "metadata": {},
   "source": [
    "Trying to just get a basic CPPN set up working. Would like to just output some pretty pictures. "
   ]
  },
  {
   "cell_type": "code",
   "execution_count": 1,
   "metadata": {},
   "outputs": [],
   "source": [
    "# Each node in the CPPN is like a typical neural net node, but instead of the funciton being a threshold,\n",
    "# it can be any arbitrary function we think up. Each CPPN will 'end' with a single output node, which can\n",
    "# have its eval() called to evaulate the entire CPP\n",
    "\n",
    "# The inputs_dict will hold the actual input values needed to evaulate the compuatations. Some special atom, 'input'\n",
    "# atoms will 'bottom out' on values that are held in the input_dict. So that they can then bubble back up\n",
    "# as nodes are evaluated.\n",
    "\n",
    "class CPPNAtom:\n",
    "    def __init__(self, t):\n",
    "        self.type = t\n",
    "        self.inputs  = []\n",
    "        self.weights = []\n",
    "    \n",
    "    def eval(self, input_dict):\n",
    "        weighted_sum = 0\n",
    "        for i in range(len(self.inputs)):\n",
    "            in_node   = self.inputs[i]\n",
    "            in_weight = self.weights[i]\n",
    "            weighted_sum += in_node.eval(input_dict)*in_weight    \n",
    "        ret = 0\n",
    "        \n",
    "        # Here's where you'd define the actual functions to be used.\n",
    "        # could do this with some classes and inheritance, but this \n",
    "        # will do for a start.\n",
    "        if   self.type == \"sine\":\n",
    "            ret = Math.sin(weighted_sum)\n",
    "        elif self.type == \"gauss\":\n",
    "            # TODO - gaussian\n",
    "            ret = weighted_sum*1\n",
    "        elif self.type == \"abs\":\n",
    "            ret = Math.abs(weighted_sum)\n",
    "         \n",
    "        return ret\n",
    "\n",
    "class CPPNInputAtom(CPPNAtom):\n",
    "    # TODO - if the type is 'input', then you search the\n",
    "    #        dict for the value corresponding to the 'tag'\n",
    "    #        or name of the input. \n",
    "    #        Needs to somehow handle the possible error of looking for a nonexistant input tag/name\n",
    "    def __init__(self, tag):\n",
    "        self.tag = tag\n",
    "    \n",
    "    def eval(self, input_dict):\n",
    "        return input_dict[self.tag]\n",
    "    \n",
    "# When the above is done, then just need to create a method for filling in random trees. I can borrow a lot\n",
    "# From work in GP to do this.\n",
    "\n",
    "# The eval done above will be decidedly NOT lazy and therefore be a little wasteful, but who gives a shit."
   ]
  },
  {
   "cell_type": "code",
   "execution_count": 3,
   "metadata": {},
   "outputs": [
    {
     "ename": "NameError",
     "evalue": "name 't' is not defined",
     "output_type": "error",
     "traceback": [
      "\u001b[0;31m---------------------------------------------------------------------------\u001b[0m",
      "\u001b[0;31mNameError\u001b[0m                                 Traceback (most recent call last)",
      "\u001b[0;32m<ipython-input-3-fd67926c6be4>\u001b[0m in \u001b[0;36m<module>\u001b[0;34m\u001b[0m\n\u001b[1;32m      7\u001b[0m \u001b[0mA\u001b[0m\u001b[0;34m.\u001b[0m\u001b[0mweights\u001b[0m \u001b[0;34m=\u001b[0m \u001b[0;34m[\u001b[0m\u001b[0;36m1.0\u001b[0m\u001b[0;34m]\u001b[0m\u001b[0;34m\u001b[0m\u001b[0;34m\u001b[0m\u001b[0m\n\u001b[1;32m      8\u001b[0m \u001b[0;34m\u001b[0m\u001b[0m\n\u001b[0;32m----> 9\u001b[0;31m \u001b[0mX\u001b[0m \u001b[0;34m=\u001b[0m \u001b[0mCPPNInputAtom\u001b[0m\u001b[0;34m(\u001b[0m\u001b[0;34m'x'\u001b[0m\u001b[0;34m)\u001b[0m\u001b[0;34m\u001b[0m\u001b[0;34m\u001b[0m\u001b[0m\n\u001b[0m\u001b[1;32m     10\u001b[0m \u001b[0mY\u001b[0m \u001b[0;34m=\u001b[0m \u001b[0mCPPNInputAtom\u001b[0m\u001b[0;34m(\u001b[0m\u001b[0;34m'y'\u001b[0m\u001b[0;34m)\u001b[0m\u001b[0;34m\u001b[0m\u001b[0;34m\u001b[0m\u001b[0m\n\u001b[1;32m     11\u001b[0m \u001b[0;34m\u001b[0m\u001b[0m\n",
      "\u001b[0;32m<ipython-input-1-0b4706f9070c>\u001b[0m in \u001b[0;36m__init__\u001b[0;34m(self, tag)\u001b[0m\n\u001b[1;32m     40\u001b[0m     \u001b[0;31m#        Needs to somehow handle the possible error of looking for a nonexistant input tag/name\u001b[0m\u001b[0;34m\u001b[0m\u001b[0;34m\u001b[0m\u001b[0;34m\u001b[0m\u001b[0m\n\u001b[1;32m     41\u001b[0m     \u001b[0;32mdef\u001b[0m \u001b[0m__init__\u001b[0m\u001b[0;34m(\u001b[0m\u001b[0mself\u001b[0m\u001b[0;34m,\u001b[0m \u001b[0mtag\u001b[0m\u001b[0;34m)\u001b[0m\u001b[0;34m:\u001b[0m\u001b[0;34m\u001b[0m\u001b[0;34m\u001b[0m\u001b[0m\n\u001b[0;32m---> 42\u001b[0;31m         \u001b[0mself\u001b[0m\u001b[0;34m.\u001b[0m\u001b[0mtag\u001b[0m \u001b[0;34m=\u001b[0m \u001b[0mt\u001b[0m\u001b[0;34m\u001b[0m\u001b[0;34m\u001b[0m\u001b[0m\n\u001b[0m\u001b[1;32m     43\u001b[0m \u001b[0;34m\u001b[0m\u001b[0m\n\u001b[1;32m     44\u001b[0m     \u001b[0;32mdef\u001b[0m \u001b[0meval\u001b[0m\u001b[0;34m(\u001b[0m\u001b[0mself\u001b[0m\u001b[0;34m,\u001b[0m \u001b[0minput_dict\u001b[0m\u001b[0;34m)\u001b[0m\u001b[0;34m:\u001b[0m\u001b[0;34m\u001b[0m\u001b[0;34m\u001b[0m\u001b[0m\n",
      "\u001b[0;31mNameError\u001b[0m: name 't' is not defined"
     ]
    }
   ],
   "source": [
    "inputs = {'x': 2, 'y': -3}\n",
    "\n",
    "A = CPPNAtom(\"abs\")\n",
    "B = CPPNAtom(\"sine\")\n",
    "\n",
    "A.inputs = [B]\n",
    "A.weights = [1.0]\n",
    "\n",
    "X = CPPNInputAtom('x')\n",
    "Y = CPPNInputAtom('y')\n",
    "\n",
    "B.inputs = [X, Y]\n",
    "B.weights = [1.0,1.0]\n",
    "\n",
    "A.eval(inputs)\n",
    "\n",
    "\n"
   ]
  },
  {
   "cell_type": "code",
   "execution_count": null,
   "metadata": {},
   "outputs": [],
   "source": []
  }
 ],
 "metadata": {
  "kernelspec": {
   "display_name": "Python 3",
   "language": "python",
   "name": "python3"
  },
  "language_info": {
   "codemirror_mode": {
    "name": "ipython",
    "version": 3
   },
   "file_extension": ".py",
   "mimetype": "text/x-python",
   "name": "python",
   "nbconvert_exporter": "python",
   "pygments_lexer": "ipython3",
   "version": "3.7.1"
  }
 },
 "nbformat": 4,
 "nbformat_minor": 2
}
